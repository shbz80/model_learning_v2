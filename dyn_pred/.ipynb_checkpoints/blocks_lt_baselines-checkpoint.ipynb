{
 "cells": [
  {
   "cell_type": "code",
   "execution_count": 1,
   "metadata": {},
   "outputs": [
    {
     "name": "stdout",
     "output_type": "stream",
     "text": [
      "['', '/opt/ros/melodic/lib/python2.7/dist-packages', '/usr/lib/python36.zip', '/usr/lib/python3.6', '/usr/lib/python3.6/lib-dynload', '/home/hangyin/.local/lib/python3.6/site-packages', '/usr/local/lib/python3.6/dist-packages', '/usr/lib/python3/dist-packages', '/home/hangyin/.local/lib/python3.6/site-packages/IPython/extensions', '/home/hangyin/.ipython', '/home/hangyin/workspace/sandbox/', '/home/hangyin/workspace/sandbox/dyn_pred']\n"
     ]
    }
   ],
   "source": [
    "import numpy as np\n",
    "import scipy as sp\n",
    "import matplotlib.pyplot as plt\n",
    "from sklearn.gaussian_process.kernels import RBF, ConstantKernel as C, WhiteKernel as W\n",
    "from multidim_gp import MultidimGP\n",
    "from model_leraning_utils import UGP\n",
    "import time\n",
    "import pickle\n",
    "from blocks_sim import MassSlideWorld\n",
    "\n",
    "import sys\n",
    "if not '/home/hangyin/workspace/sandbox/' in sys.path:\n",
    "    sys.path.append('/home/hangyin/workspace/sandbox/')\n",
    "    sys.path.append('/home/hangyin/workspace/sandbox/dyn_pred')\n",
    "print(sys.path)\n",
    "import dyn_pred\n",
    "from dyn_pred.dynamics_predictor import DynamicsPredictor\n",
    "from dyn_pred.bnn_dyn.bnn_dyn import BNNDynamics\n",
    "from dyn_pred.gp_dyn.gp_dyn import GaussianProcessDynamics\n",
    "from dyn_pred.gp_dyn.manifold_gp.gpflow_nn_ker import NNFeaturedSE\n",
    "\n",
    "import gpflow\n",
    "import tensorflow as tf"
   ]
  },
  {
   "cell_type": "code",
   "execution_count": 2,
   "metadata": {
    "collapsed": true
   },
   "outputs": [],
   "source": [
    "#exp settings\n",
    "n_repeat = 1  #number of training instances for nn approaches\n",
    "horizons = [39]"
   ]
  },
  {
   "cell_type": "code",
   "execution_count": 3,
   "metadata": {},
   "outputs": [
    {
     "name": "stdout",
     "output_type": "stream",
     "text": [
      "dX:2, dU:1\n"
     ]
    },
    {
     "name": "stderr",
     "output_type": "stream",
     "text": [
      "/home/hangyin/.local/lib/python3.6/site-packages/sklearn/base.py:251: UserWarning: Trying to unpickle estimator StandardScaler from version 0.19.1 when using version 0.20.2. This might lead to breaking code or invalid results. Use at your own risk.\n",
      "  UserWarning)\n",
      "/home/hangyin/.local/lib/python3.6/site-packages/sklearn/base.py:251: UserWarning: Trying to unpickle estimator GaussianProcessRegressor from version 0.19.1 when using version 0.20.2. This might lead to breaking code or invalid results. Use at your own risk.\n",
      "  UserWarning)\n",
      "/home/hangyin/.local/lib/python3.6/site-packages/sklearn/base.py:251: UserWarning: Trying to unpickle estimator BayesianGaussianMixture from version 0.19.1 when using version 0.20.2. This might lead to breaking code or invalid results. Use at your own risk.\n",
      "  UserWarning)\n",
      "/home/hangyin/.local/lib/python3.6/site-packages/sklearn/base.py:251: UserWarning: Trying to unpickle estimator SVC from version 0.19.1 when using version 0.20.2. This might lead to breaking code or invalid results. Use at your own risk.\n",
      "  UserWarning)\n",
      "/home/hangyin/.local/lib/python3.6/site-packages/sklearn/base.py:251: UserWarning: Trying to unpickle estimator GridSearchCV from version 0.19.1 when using version 0.20.2. This might lead to breaking code or invalid results. Use at your own risk.\n",
      "  UserWarning)\n"
     ]
    },
    {
     "data": {
      "text/plain": [
       "'\\nX # input state\\nL = np.array([.2, 1.])\\nXtrg =  18.\\nnoise = 3.\\ndX = np.array([Xtrg, 0.]).reshape(1,2) - X\\nU = np.dot(dX, L) # simple linear controller\\nU = U.reshape(X.shape[0],1)\\nif return_std:\\n    U_noise = np.full((U.shape), np.sqrt(noise))\\nreturn U, U_noise\\n'"
      ]
     },
     "execution_count": 3,
     "metadata": {},
     "output_type": "execute_result"
    }
   ],
   "source": [
    "#data and control things\n",
    "#logfile = \"./Results/blocks_exp_preprocessed_1.dat\"\n",
    "logfile = \"./Results/blocks_exp_preprocessed_data_rs_1.dat\"\n",
    "\n",
    "exp_data = pickle.load( open(logfile, \"rb\" ), encoding='latin1' )\n",
    "#print(exp_data.keys())\n",
    "exp_params = exp_data['exp_params']\n",
    "Xg = exp_data['Xg']  # sate ground truth\n",
    "Ug = exp_data['Ug']  # action ground truth\n",
    "dP = exp_params['dP'] # pos dim\n",
    "dV = exp_params['dV'] # vel dim\n",
    "dU = exp_params['dU'] # act dim\n",
    "dX = dP+dV # state dim\n",
    "T = exp_params['T'] - 1 # total time steps\n",
    "dt = exp_params['dt'] # sampling time\n",
    "n_train = exp_data['n_train'] # number or trials in training data\n",
    "n_test = exp_data['n_test'] # number or trials in testing data\n",
    "\n",
    "XU_t_train = exp_data['XU_t_train'] # shape: n_train*T, dXU, state-action, sequential data\n",
    "XUs_t_train = exp_data['XUs_t_train'] # shape: n_train, T, dXU, state-action, sequential data\n",
    "X_t1_train = exp_data['X_t1_train'] # shape: n_train*T, dX, next state, sequential data\n",
    "X_t_train = exp_data['X_t_train'] # shape: n_train*T, dX, current state, sequential data\n",
    "X_t_std_weighted_train = exp_data['X_t_std_weighted_train'] # same as X_t_train but standardized\n",
    "X_t1_std_weighted_train = exp_data['X_t1_std_weighted_train'] # same as X_t1_train but standardized\n",
    "X_t_test = exp_data['X_t_test']\n",
    "Xs_t_train = XUs_t_train[:, :, :dX]\n",
    "X_scaler = exp_data['X_scaler']\n",
    "XU_t_std_train = exp_data['XU_t_std_train']\n",
    "XU_scaler = exp_data['XU_scaler']\n",
    "\n",
    "ugp_params = {\n",
    "    'alpha': 1.,\n",
    "    'kappa': 2.,\n",
    "    'beta': 0.,\n",
    "}\n",
    "\n",
    "print('dX:{0}, dU:{1}'.format(dX, dU))\n",
    "\n",
    "policy_params = exp_params['policy'] # TODO: the block_sim code assumes only 'm1' mode for control\n",
    "expl_noise = policy_params['m1']['noise_pol']\n",
    "H = T  # prediction horizon\n",
    "\n",
    "gpr_params = {\n",
    "            # 'alpha': 1e-2,  # alpha=0 when using white kernal\n",
    "            'alpha': 0.,  # alpha=0 when using white kernal\n",
    "            'kernel': C(1.0, (1e-2, 1e2)) * RBF(np.ones(dX + dU), (1e-2, 1e2)) + W(noise_level=1.,\n",
    "                                                                                   noise_level_bounds=(1e-4, 1e1)),\n",
    "            # 'kernel': C(1.0, (1e-1, 1e1)) * RBF(np.ones(dX + dU), (1e-1, 1e1)),\n",
    "            'n_restarts_optimizer': 10,\n",
    "            'normalize_y': False,  # is not supported in the propogation function\n",
    "        }\n",
    "\n",
    "gpr_params_list = []\n",
    "gpr_params_list.append(gpr_params)\n",
    "gpr_params_list.append(gpr_params)\n",
    "# gpr_params_list.append(gpr_params_p_d)\n",
    "# gpr_params_list.append(gpr_params_v_d)\n",
    "\n",
    "\n",
    "#and world\n",
    "# global gp long-term prediction\n",
    "massSlideParams = exp_params['massSlide']\n",
    "# policy_params = exp_params['policy']\n",
    "massSlideWorld = MassSlideWorld(**massSlideParams)\n",
    "massSlideWorld.set_policy(policy_params)\n",
    "massSlideWorld.reset()\n",
    "mode = 'm1'  # only one mode for control no matter what X\n",
    "\n",
    "ugp_global_dyn = UGP(dX + dU, **ugp_params) # initialize unscented transform for dynamics\n",
    "ugp_global_pol = UGP(dX, **ugp_params) # initialize unscented transform for policy\n",
    "\n",
    "x_mu_t = exp_data['X0_mu']  # mean of initial state distr\n",
    "x_var_t = np.diag(exp_data['X0_var'])\n",
    "x_var_t[1,1] = 1e-6   # setting small variance for initial vel    # TODO: cholesky failing for zero v0 variance\n",
    "\n",
    "\n",
    "############ Policy assumptions #######\n",
    "'''\n",
    "X # input state\n",
    "L = np.array([.2, 1.])\n",
    "Xtrg =  18.\n",
    "noise = 3.\n",
    "dX = np.array([Xtrg, 0.]).reshape(1,2) - X\n",
    "U = np.dot(dX, L) # simple linear controller\n",
    "U = U.reshape(X.shape[0],1)\n",
    "if return_std:\n",
    "    U_noise = np.full((U.shape), np.sqrt(noise))\n",
    "return U, U_noise\n",
    "'''"
   ]
  },
  {
   "cell_type": "code",
   "execution_count": 4,
   "metadata": {},
   "outputs": [
    {
     "name": "stdout",
     "output_type": "stream",
     "text": [
      "Training for the 0-th repetition...\n",
      "Created an ensemble of 5 neural networks with variance predictions.\n"
     ]
    },
    {
     "name": "stderr",
     "output_type": "stream",
     "text": [
      "Network training: 100%|██████████| 100/100 [00:00<00:00, 112.83epoch(s)/s, Training loss(es)=[0.02532835 0.01886144 0.02449165 0.01352611 0.01993136]]\n"
     ]
    }
   ],
   "source": [
    "\n",
    "bnn_res = dict()\n",
    "for h in horizons:\n",
    "    bnn_res['horizon_{0}'.format(h)] = []\n",
    "    for r in range(n_repeat):\n",
    "        print('Training for the {0}-th repetition...'.format(r))\n",
    "        curr_res = dict()\n",
    "        \n",
    "        #for BNN\n",
    "        tf.reset_default_graph()\n",
    "        model = DynamicsPredictor(model=BNNDynamics(layers=[3, 5, 2], n_nets=5, name='bnn2d'))  #input 3d , output 2d\n",
    "\n",
    "        model.train(XU_t_train, X_t1_train)\n",
    "        \n",
    "        #prediction\n",
    "        x_mu_t = exp_data['X0_mu']  # mean of initial state distr\n",
    "        x_var_t = np.diag(exp_data['X0_var'])\n",
    "        x_var_t[1,1] = 1e-6   # setting small variance for initial vel    # TODO: cholesky failing for zero v0 variance\n",
    "\n",
    "        X_mu_pred = []  # list for collecting state mean\n",
    "        X_var_pred = [] # list for collecting state var\n",
    "        #for our baseline models to predict\n",
    "        for t in range(h):\n",
    "            # UT method on stochastic policy, policy is deterministic controller plus exploration noise\n",
    "            u_mu_t, u_var_t, _, _, xu_cov = ugp_global_pol.get_posterior_pol(massSlideWorld, x_mu_t, x_var_t)\n",
    "            # form joint state action distribution\n",
    "            xu_mu_t = np.append(x_mu_t, u_mu_t)\n",
    "            # xu_var_t = np.block([[x_var_t, np.zeros((dX,dU))],\n",
    "            #                     [np.zeros((dU,dX)), u_var_t]])\n",
    "            # TODO: xu_cov may not be correct so disable below and enable above later\n",
    "            xu_var_t = np.block([[x_var_t, xu_cov],\n",
    "                                 [xu_cov.T, u_var_t]])\n",
    "            X_mu_pred.append(x_mu_t)\n",
    "            X_var_pred.append(x_var_t)\n",
    "            # UT method for one step dynamics prediction\n",
    "            x_mu_t, x_var_t = model.predict(np.array([xu_mu_t]), np.array([xu_var_t]))\n",
    "            # unpack because our method takes a batch as input\n",
    "            x_mu_t = x_mu_t[0]\n",
    "            x_var_t = x_var_t[0]\n",
    "\n",
    "        #print(len(X_mu_pred), len(X_var_pred))\n",
    "        curr_res['pred_x_mu'] = X_mu_pred\n",
    "        curr_res['pred_x_var'] = X_var_pred\n",
    "        \n",
    "        #loglikelihood score\n",
    "        XUs_t_test = exp_data['XUs_t_test']\n",
    "        assert(XUs_t_test.shape[0]==n_test)\n",
    "        X_test_log_ll = np.zeros((h, n_test))\n",
    "        for t in range(h):      # one data point less than in XU_test\n",
    "            for i in range(n_test):\n",
    "                XU_test = XUs_t_test[i]\n",
    "                x_t = XU_test[t, :dX]\n",
    "                x_mu_t = X_mu_pred[t]\n",
    "                x_var_t = X_var_pred[t]\n",
    "                X_test_log_ll[t, i] = sp.stats.multivariate_normal.logpdf(x_t, x_mu_t, x_var_t)\n",
    "        \n",
    "        curr_res['ll_score'] = X_test_log_ll\n",
    "        \n",
    "        bnn_res['horizon_{0}'.format(h)].append(curr_res)\n",
    "        \n",
    "        del model\n",
    "        \n"
   ]
  },
  {
   "cell_type": "code",
   "execution_count": 5,
   "metadata": {
    "collapsed": true
   },
   "outputs": [],
   "source": [
    "np.save('bnn_res', bnn_res)"
   ]
  },
  {
   "cell_type": "code",
   "execution_count": 4,
   "metadata": {},
   "outputs": [
    {
     "name": "stdout",
     "output_type": "stream",
     "text": [
      "Training for the 0-th repetition...\n",
      "Created an ensemble of 5 neural networks with variance predictions.\n"
     ]
    },
    {
     "name": "stderr",
     "output_type": "stream",
     "text": [
      "Network training: 100%|██████████| 100/100 [00:00<00:00, 94.25epoch(s)/s, Training loss(es)=[0.01928245 0.01958094 0.02187146 0.03781505 0.01816209]]\n"
     ]
    }
   ],
   "source": [
    "#for multimodal output of BNN\n",
    "#here we adopt a simple propagation rule: treat each gaussian output in the ensemble as a local model by itself and maintain the ensemble all through the trajectory\n",
    "bnn_multm_res = dict()\n",
    "n_nets = 5\n",
    "\n",
    "for h in horizons:\n",
    "    bnn_multm_res['horizon_{0}'.format(h)] = []\n",
    "    for r in range(n_repeat):\n",
    "        print('Training for the {0}-th repetition...'.format(r))\n",
    "        curr_res = dict()\n",
    "        \n",
    "        #for BNN\n",
    "        tf.reset_default_graph()\n",
    "        model = DynamicsPredictor(model=BNNDynamics(layers=[3, 5, 2], n_nets=n_nets, name='bnn2d'))  #input 3d , output 2d\n",
    "\n",
    "        model.train(XU_t_train, X_t1_train)\n",
    "        \n",
    "        #prediction\n",
    "        #we need a predictor indexing the i-th nn in the ensemble\n",
    "        class multimodal_predict(object):\n",
    "            def __init__(self, bnn_model, index):\n",
    "                self.bnn_model = bnn_model\n",
    "                self.index = index\n",
    "            \n",
    "            def predict(self, inputs, return_std=True):\n",
    "                means, variances = self.bnn_model.predict(inputs, factored=True)\n",
    "                return means[self.index], np.sqrt(variances[self.index])  #return std instead, because get_posterior needs this\n",
    "                \n",
    "        #prepare predictor for each model in the ensemble\n",
    "        predictors = [multimodal_predict(model.model.bnn_model, i_model) for i_model in range(n_nets)]\n",
    "       \n",
    "        x_mu_t = exp_data['X0_mu']  # mean of initial state distr\n",
    "        x_var_t = np.diag(exp_data['X0_var'])\n",
    "        x_var_t[1,1] = 1e-6   # setting small variance for initial vel    # TODO: cholesky failing for zero v0 variance\n",
    "        \n",
    "        x_mu_t = np.array([x_mu_t.copy() for i in range(n_nets)])\n",
    "        x_var_t = np.array([x_var_t.copy() for i in range(n_nets)])\n",
    "        \n",
    "        X_mu_pred = []  # list for collecting state mean\n",
    "        X_var_pred = [] # list for collecting state var\n",
    "        #for our baseline models to predict\n",
    "        for t in range(h):\n",
    "            X_mu_pred.append(x_mu_t.copy())\n",
    "            X_var_pred.append(x_var_t.copy())\n",
    "            for i_model in range(n_nets):\n",
    "                # UT method on stochastic policy, policy is deterministic controller plus exploration noise\n",
    "                u_mu_t, u_var_t, _, _, xu_cov = ugp_global_pol.get_posterior_pol(massSlideWorld, x_mu_t[i_model], x_var_t[i_model])\n",
    "                # form joint state action distribution\n",
    "                xu_mu_t = np.append(x_mu_t[i_model], u_mu_t)\n",
    "                # xu_var_t = np.block([[x_var_t, np.zeros((dX,dU))],\n",
    "                #                     [np.zeros((dU,dX)), u_var_t]])\n",
    "                # TODO: xu_cov may not be correct so disable below and enable above later\n",
    "                xu_var_t = np.block([[x_var_t[i_model], xu_cov],\n",
    "                                     [xu_cov.T, u_var_t]])\n",
    "\n",
    "                # UT method for one step dynamics prediction\n",
    "                # x_mu_t, x_var_t = model.predict(np.array([xu_mu_t]), np.array([xu_var_t]))\n",
    "                \n",
    "                x_mu_t_new, x_var_t_new, _, _, _ = ugp_global_dyn.get_posterior(predictors[i_model], xu_mu_t, xu_var_t)\n",
    "                \n",
    "                # unpack because our method takes a batch as input\n",
    "                x_mu_t[i_model] = x_mu_t_new\n",
    "                x_var_t[i_model] = x_var_t_new\n",
    "\n",
    "        #print(len(X_mu_pred), len(X_var_pred))\n",
    "        curr_res['pred_x_mu'] = X_mu_pred\n",
    "        curr_res['pred_x_var'] = X_var_pred\n",
    "        \n",
    "        #loglikelihood score\n",
    "        XUs_t_test = exp_data['XUs_t_test']\n",
    "        assert(XUs_t_test.shape[0]==n_test)\n",
    "        X_test_log_ll = np.zeros((h, n_test))\n",
    "        for t in range(h):      # one data point less than in XU_test\n",
    "            for i in range(n_test):\n",
    "                XU_test = XUs_t_test[i]\n",
    "                x_t = XU_test[t, :dX]\n",
    "                x_mu_t = X_mu_pred[t]\n",
    "                x_var_t = X_var_pred[t]\n",
    "                #taking the mean of log of mean pdf\n",
    "                X_test_log_ll[t, i] = np.log(np.mean([sp.stats.multivariate_normal.pdf(x_t, x_mu_t[j], x_var_t[j]) for j in range(n_nets)]))\n",
    "        \n",
    "        curr_res['ll_score'] = X_test_log_ll\n",
    "        \n",
    "        bnn_multm_res['horizon_{0}'.format(h)].append(curr_res)\n",
    "        \n",
    "        del model\n",
    "        \n"
   ]
  },
  {
   "cell_type": "code",
   "execution_count": 5,
   "metadata": {
    "collapsed": true
   },
   "outputs": [],
   "source": [
    "np.save('bnn_multm_res', bnn_multm_res)"
   ]
  },
  {
   "cell_type": "code",
   "execution_count": 4,
   "metadata": {},
   "outputs": [
    {
     "name": "stderr",
     "output_type": "stream",
     "text": [
      "WARNING:gpflow.logdensities:Shape of x must be 2D at computation.\n"
     ]
    },
    {
     "name": "stdout",
     "output_type": "stream",
     "text": [
      "Training for the 0-th repetition...\n",
      "INFO:tensorflow:Optimization terminated with:\n",
      "  Message: b'CONVERGENCE: REL_REDUCTION_OF_F_<=_FACTR*EPSMCH'\n",
      "  Objective function value: -733.438665\n",
      "  Number of iterations: 188\n",
      "  Number of functions evaluations: 328\n"
     ]
    },
    {
     "name": "stderr",
     "output_type": "stream",
     "text": [
      "INFO:tensorflow:Optimization terminated with:\n",
      "  Message: b'CONVERGENCE: REL_REDUCTION_OF_F_<=_FACTR*EPSMCH'\n",
      "  Objective function value: -733.438665\n",
      "  Number of iterations: 188\n",
      "  Number of functions evaluations: 328\n"
     ]
    }
   ],
   "source": [
    "mgp_res = dict()\n",
    "for h in horizons:\n",
    "    mgp_res['horizon_{0}'.format(h)] = []\n",
    "    for r in range(n_repeat):\n",
    "        print('Training for the {0}-th repetition...'.format(r))\n",
    "        curr_res = dict()\n",
    "        \n",
    "        #for mGP\n",
    "        #tf.reset_default_graph()\n",
    "        model = DynamicsPredictor(model=GaussianProcessDynamics(kern=NNFeaturedSE(3, [3, 3, 2])))\n",
    "        model.train(XU_t_train, X_t1_train)\n",
    "        \n",
    "        #prediction\n",
    "        x_mu_t = exp_data['X0_mu']  # mean of initial state distr\n",
    "        x_var_t = np.diag(exp_data['X0_var'])\n",
    "        x_var_t[1,1] = 1e-6   # setting small variance for initial vel    # TODO: cholesky failing for zero v0 variance\n",
    "\n",
    "        X_mu_pred = []  # list for collecting state mean\n",
    "        X_var_pred = [] # list for collecting state var\n",
    "        #for our baseline models to predict\n",
    "        for t in range(h):\n",
    "            # UT method on stochastic policy, policy is deterministic controller plus exploration noise\n",
    "            u_mu_t, u_var_t, _, _, xu_cov = ugp_global_pol.get_posterior_pol(massSlideWorld, x_mu_t, x_var_t)\n",
    "            # form joint state action distribution\n",
    "            xu_mu_t = np.append(x_mu_t, u_mu_t)\n",
    "            # xu_var_t = np.block([[x_var_t, np.zeros((dX,dU))],\n",
    "            #                     [np.zeros((dU,dX)), u_var_t]])\n",
    "            # TODO: xu_cov may not be correct so disable below and enable above later\n",
    "            xu_var_t = np.block([[x_var_t, xu_cov],\n",
    "                                 [xu_cov.T, u_var_t]])\n",
    "            X_mu_pred.append(x_mu_t)\n",
    "            X_var_pred.append(x_var_t)\n",
    "            # UT method for one step dynamics prediction\n",
    "            x_mu_t, x_var_t = model.predict(np.array([xu_mu_t]), np.array([xu_var_t]))\n",
    "            # unpack because our method takes a batch as input\n",
    "            x_mu_t = x_mu_t[0]\n",
    "            x_var_t = x_var_t[0]\n",
    "\n",
    "        #print(len(X_mu_pred), len(X_var_pred))\n",
    "        curr_res['pred_x_mu'] = X_mu_pred\n",
    "        curr_res['pred_x_var'] = X_var_pred\n",
    "        \n",
    "        #loglikelihood score\n",
    "        XUs_t_test = exp_data['XUs_t_test']\n",
    "        assert(XUs_t_test.shape[0]==n_test)\n",
    "        X_test_log_ll = np.zeros((h, n_test))\n",
    "        for t in range(h):      # one data point less than in XU_test\n",
    "            for i in range(n_test):\n",
    "                XU_test = XUs_t_test[i]\n",
    "                x_t = XU_test[t, :dX]\n",
    "                x_mu_t = X_mu_pred[t]\n",
    "                x_var_t = X_var_pred[t]\n",
    "                X_test_log_ll[t, i] = sp.stats.multivariate_normal.logpdf(x_t, x_mu_t, x_var_t)\n",
    "        \n",
    "        curr_res['ll_score'] = X_test_log_ll\n",
    "        \n",
    "        mgp_res['horizon_{0}'.format(h)].append(curr_res)\n",
    "        \n",
    "        del model\n",
    "        "
   ]
  },
  {
   "cell_type": "code",
   "execution_count": 7,
   "metadata": {
    "collapsed": true
   },
   "outputs": [],
   "source": [
    "np.save('mgp_res', mgp_res)"
   ]
  },
  {
   "cell_type": "code",
   "execution_count": 8,
   "metadata": {
    "collapsed": true
   },
   "outputs": [],
   "source": [
    "#visualize results\n",
    "bnn_res = np.load('bnn_res.npy').item()['horizon_39']\n",
    "bnn_multm_res = np.load('bnn_multm_res.npy').item()['horizon_39']\n",
    "mgp_res = np.load('mgp_res.npy').item()['horizon_39']\n",
    "\n"
   ]
  },
  {
   "cell_type": "code",
   "execution_count": 9,
   "metadata": {},
   "outputs": [
    {
     "name": "stdout",
     "output_type": "stream",
     "text": [
      "[0.680977105462901, -1.2030185726740896, -2.6898033171232765, -3.375594764625171, -3.7787940711238197] [5.058004020071688, 4.431635858213129, 3.639289622621094, 3.4155539093013707, 3.276533139231654]\n",
      "[1.4520647057357121, 0.1337909372034716, -0.6812817436733789, -1.0044993512753992, -1.5607965962747472] [4.032592948702285, 3.3509086372763597, 2.4882413397809127, 2.0931346821918044, 2.056002033592083]\n",
      "[4.384485597693387, 3.1261418587030687, 1.6811852595184336, 1.073296794762321, 0.6259694826559493] [2.617223023352371, 2.4372680908064073, 2.2159484423991778, 1.9869347055782878, 1.9072260327924773]\n"
     ]
    }
   ],
   "source": [
    "#lets see scores\n",
    "eval_horizons = [5, 9, 19, 29, 39]\n",
    "\n",
    "approaches = ['mGP', 'BNN', 'BNN-MM']\n",
    "\n",
    "mgp_score_avg = []\n",
    "mgp_score_std = []\n",
    "bnn_score_avg = []\n",
    "bnn_score_std = []\n",
    "bnn_mm_score_avg = []\n",
    "bnn_mm_score_std = []\n",
    "\n",
    "for h in eval_horizons:\n",
    "    mgp_score = []\n",
    "    bnn_score = []\n",
    "    for trial in range(1):\n",
    "        #only look at the one repetition for the consistency with Shahbaz's criterion\n",
    "        #bnn_score.append(np.mean(bnn_res[trial]['ll_score'][:h]))\n",
    "        #mgp_score.append(np.mean(mgp_res[trial]['ll_score'][:h]))\n",
    "        bnn_score = bnn_res[trial]['ll_score'][:h]\n",
    "        bnn_mm_score = bnn_multm_res[trial]['ll_score'][:h]\n",
    "        mgp_score = mgp_res[trial]['ll_score'][:h]\n",
    "    mgp_score_avg.append(np.mean(mgp_score))\n",
    "    mgp_score_std.append(np.std(mgp_score))\n",
    "    bnn_score_avg.append(np.mean(bnn_score))\n",
    "    bnn_score_std.append(np.std(bnn_score))\n",
    "    bnn_mm_score_avg.append(np.mean(bnn_mm_score))\n",
    "    bnn_mm_score_std.append(np.std(bnn_mm_score))\n",
    "\n",
    "print(mgp_score_avg, mgp_score_std)\n",
    "print(bnn_score_avg, bnn_score_std)\n",
    "print(bnn_mm_score_avg, bnn_mm_score_std)"
   ]
  },
  {
   "cell_type": "code",
   "execution_count": 10,
   "metadata": {},
   "outputs": [
    {
     "data": {
      "image/png": "[encoded data removed]",
      "text/plain": [
       "<Figure size 432x288 with 1 Axes>"
      ]
     },
     "metadata": {
      "needs_background": "light"
     },
     "output_type": "display_data"
    }
   ],
   "source": [
    "#%matplotlib auto\n",
    "fig = plt.figure()\n",
    "ax = fig.add_subplot(111)\n",
    "\n",
    "mgp_plt = ax.bar(eval_horizons, mgp_score_avg, yerr=mgp_score_std)\n",
    "bnn_plt = ax.bar(np.array(eval_horizons)-0.75, bnn_score_avg, yerr=bnn_score_std)\n",
    "bnn_mm_plt = ax.bar(np.array(eval_horizons)-1.5, bnn_mm_score_avg, yerr=bnn_mm_score_std)\n",
    "\n",
    "ax.set_xlabel('Prediction Horizon', fontsize=16)\n",
    "ax.set_ylabel('Log-likelihood Score', fontsize=16)\n",
    "\n",
    "ax.legend((mgp_plt, bnn_plt, bnn_mm_plt), approaches, fontsize=16)\n",
    "ax.grid()\n"
   ]
  },
  {
   "cell_type": "code",
   "execution_count": null,
   "metadata": {
    "collapsed": true
   },
   "outputs": [],
   "source": []
  }
 ],
 "metadata": {
  "kernelspec": {
   "display_name": "Python 2",
   "language": "python",
   "name": "python2"
  },
  "language_info": {
   "codemirror_mode": {
    "name": "ipython",
    "version": 2
   },
   "file_extension": ".py",
   "mimetype": "text/x-python",
   "name": "python",
   "nbconvert_exporter": "python",
   "pygments_lexer": "ipython2",
   "version": "2.7.6"
  }
 },
 "nbformat": 4,
 "nbformat_minor": 2
}
